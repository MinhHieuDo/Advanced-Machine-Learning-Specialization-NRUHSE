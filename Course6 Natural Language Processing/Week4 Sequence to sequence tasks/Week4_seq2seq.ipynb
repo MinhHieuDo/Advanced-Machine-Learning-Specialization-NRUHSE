{
  "nbformat": 4,
  "nbformat_minor": 0,
  "metadata": {
    "kernelspec": {
      "display_name": "Python 3",
      "language": "python",
      "name": "python3"
    },
    "language_info": {
      "codemirror_mode": {
        "name": "ipython",
        "version": 3
      },
      "file_extension": ".py",
      "mimetype": "text/x-python",
      "name": "python",
      "nbconvert_exporter": "python",
      "pygments_lexer": "ipython3",
      "version": "3.4.3"
    },
    "colab": {
      "name": "Week4-seq2seq.ipynb",
      "provenance": [],
      "collapsed_sections": []
    },
    "accelerator": "GPU"
  },
  "cells": [
    {
      "cell_type": "markdown",
      "metadata": {
        "id": "mSDqsb39CG2N",
        "colab_type": "text"
      },
      "source": [
        "# Learn to calculate with seq2seq model\n",
        "\n",
        "In this assignment, you will learn how to use neural networks to solve sequence-to-sequence prediction tasks. Seq2Seq models are very popular these days because they achieve great results in Machine Translation, Text Summarization, Conversational Modeling and more.\n",
        "\n",
        "Using sequence-to-sequence modeling you are going to build a calculator for evaluating arithmetic expressions, by taking an equation as an input to the neural network and producing an answer as it's output.\n",
        "\n",
        "The resulting solution for this problem will be based on state-of-the-art approaches for sequence-to-sequence learning and you should be able to easily adapt it to solve other tasks. However, if you want to train your own machine translation system or intellectual chat bot, it would be useful to have access to compute resources like GPU, and be patient, because training of such systems is usually time consuming. \n",
        "\n",
        "### Libraries\n",
        "\n",
        "For this task you will need the following libraries:\n",
        " - [TensorFlow](https://www.tensorflow.org) — an open-source software library for Machine Intelligence.\n",
        " \n",
        "In this assignment, we use Tensorflow 1.15.0. You can install it with pip:\n",
        "\n",
        "    !pip install tensorflow==1.15.0\n",
        "     \n",
        " - [scikit-learn](http://scikit-learn.org/stable/index.html) — a tool for data mining and data analysis.\n",
        " \n",
        "If you have never worked with TensorFlow, you will probably want to read some tutorials during your work on this assignment, e.g. [Neural Machine Translation](https://www.tensorflow.org/tutorials/seq2seq) tutorial deals with very similar task and can explain some concepts to you. "
      ]
    },
    {
      "cell_type": "markdown",
      "metadata": {
        "id": "QKM8zisHCG2P",
        "colab_type": "text"
      },
      "source": [
        "### Data\n",
        "\n",
        "One benefit of this task is that you don't need to download any data — you will generate it on your own! We will use two operators (addition and subtraction) and work with positive integer numbers in some range. Here are examples of correct inputs and outputs:\n",
        "\n",
        "    Input: '1+2'\n",
        "    Output: '3'\n",
        "    \n",
        "    Input: '0-99'\n",
        "    Output: '-99'\n",
        "\n",
        "*Note, that there are no spaces between operators and operands.*\n",
        "\n",
        "\n",
        "Now you need to implement the function *generate_equations*, which will be used to generate the data."
      ]
    },
    {
      "cell_type": "code",
      "metadata": {
        "id": "QF7LCVKHDGRg",
        "colab_type": "code",
        "outputId": "4faf8c7c-9677-44d9-f0e7-5d74c8acd35b",
        "colab": {
          "base_uri": "https://localhost:8080/",
          "height": 243
        }
      },
      "source": [
        "! wget https://raw.githubusercontent.com/hse-aml/natural-language-processing/master/setup_google_colab.py -O setup_google_colab.py\n",
        "import setup_google_colab\n",
        "# please, uncomment the week you're working on\n",
        "setup_google_colab.setup_week4()"
      ],
      "execution_count": 1,
      "outputs": [
        {
          "output_type": "stream",
          "text": [
            "--2020-05-05 09:38:12--  https://raw.githubusercontent.com/hse-aml/natural-language-processing/master/setup_google_colab.py\n",
            "Resolving raw.githubusercontent.com (raw.githubusercontent.com)... 151.101.0.133, 151.101.64.133, 151.101.128.133, ...\n",
            "Connecting to raw.githubusercontent.com (raw.githubusercontent.com)|151.101.0.133|:443... connected.\n",
            "HTTP request sent, awaiting response... 200 OK\n",
            "Length: 1991 (1.9K) [text/plain]\n",
            "Saving to: ‘setup_google_colab.py’\n",
            "\n",
            "\rsetup_google_colab.   0%[                    ]       0  --.-KB/s               \rsetup_google_colab. 100%[===================>]   1.94K  --.-KB/s    in 0s      \n",
            "\n",
            "2020-05-05 09:38:12 (33.5 MB/s) - ‘setup_google_colab.py’ saved [1991/1991]\n",
            "\n"
          ],
          "name": "stdout"
        }
      ]
    },
    {
      "cell_type": "code",
      "metadata": {
        "id": "o9_ElY9lCG2T",
        "colab_type": "code",
        "colab": {}
      },
      "source": [
        "import random"
      ],
      "execution_count": 0,
      "outputs": []
    },
    {
      "cell_type": "code",
      "metadata": {
        "id": "v-0tGiojCG2e",
        "colab_type": "code",
        "colab": {}
      },
      "source": [
        "def generate_equations(allowed_operators, dataset_size, min_value, max_value):\n",
        "    \"\"\"Generates pairs of equations and solutions to them.\n",
        "    \n",
        "       Each equation has a form of two integers with an operator in between.\n",
        "       Each solution is an integer with the result of the operaion.\n",
        "    \n",
        "        allowed_operators: list of strings, allowed operators.\n",
        "        dataset_size: an integer, number of equations to be generated.\n",
        "        min_value: an integer, min value of each operand.\n",
        "        max_value: an integer, max value of each operand.\n",
        "\n",
        "        result: a list of tuples of strings (equation, solution).\n",
        "    \"\"\"\n",
        "    Op = {'+': lambda x, y: x + y,\n",
        "          '-': lambda x, y: x - y,}\n",
        "    sample = []\n",
        "    for _ in range(dataset_size):\n",
        "        ######################################\n",
        "        ######### YOUR CODE HERE #############\n",
        "        ######################################\n",
        "        a= random.randint(min_value,max_value)\n",
        "        b= random.randint(min_value,max_value)\n",
        "        operator = random.choice(allowed_operators)\n",
        "        equation = str(a)+operator+ str(b)\n",
        "        solution = str(Op[operator](a,b))\n",
        "        sample.append((equation,solution))\n",
        "    return sample"
      ],
      "execution_count": 0,
      "outputs": []
    },
    {
      "cell_type": "markdown",
      "metadata": {
        "id": "ogIWh8u_CG2l",
        "colab_type": "text"
      },
      "source": [
        "To check the correctness of your implementation, use *test_generate_equations* function:"
      ]
    },
    {
      "cell_type": "code",
      "metadata": {
        "id": "OVt2R2ScCG2n",
        "colab_type": "code",
        "colab": {}
      },
      "source": [
        "def test_generate_equations():\n",
        "    allowed_operators = ['+', '-']\n",
        "    dataset_size = 10\n",
        "    for (input_, output_) in generate_equations(allowed_operators, dataset_size, 0, 100):\n",
        "        if not (type(input_) is str and type(output_) is str):\n",
        "            return \"Both parts should be strings.\"\n",
        "        if eval(input_) != int(output_):\n",
        "            return \"The (equation: {!r}, solution: {!r}) pair is incorrect.\".format(input_, output_)\n",
        "    return \"Tests passed.\""
      ],
      "execution_count": 0,
      "outputs": []
    },
    {
      "cell_type": "code",
      "metadata": {
        "id": "oLUW5cCaCG2t",
        "colab_type": "code",
        "outputId": "b59288b4-5c7d-4bb5-d725-9026886e7f2c",
        "colab": {
          "base_uri": "https://localhost:8080/",
          "height": 36
        }
      },
      "source": [
        "print(test_generate_equations())"
      ],
      "execution_count": 5,
      "outputs": [
        {
          "output_type": "stream",
          "text": [
            "Tests passed.\n"
          ],
          "name": "stdout"
        }
      ]
    },
    {
      "cell_type": "markdown",
      "metadata": {
        "id": "n3TircpACG20",
        "colab_type": "text"
      },
      "source": [
        "Finally, we are ready to generate the train and test data for the neural network:"
      ]
    },
    {
      "cell_type": "code",
      "metadata": {
        "id": "yN0oisftCG21",
        "colab_type": "code",
        "colab": {}
      },
      "source": [
        "from sklearn.model_selection import train_test_split"
      ],
      "execution_count": 0,
      "outputs": []
    },
    {
      "cell_type": "code",
      "metadata": {
        "id": "R7PTHoNrCG28",
        "colab_type": "code",
        "colab": {}
      },
      "source": [
        "allowed_operators = ['+', '-']\n",
        "dataset_size = 100000\n",
        "data = generate_equations(allowed_operators, dataset_size, min_value=0, max_value=9999)\n",
        "\n",
        "train_set, test_set = train_test_split(data, test_size=0.2, random_state=42)"
      ],
      "execution_count": 0,
      "outputs": []
    },
    {
      "cell_type": "code",
      "metadata": {
        "id": "dKnPg0VvNWAx",
        "colab_type": "code",
        "outputId": "5807ee78-569f-4c6a-8aa7-a1a43bd6160f",
        "colab": {
          "base_uri": "https://localhost:8080/",
          "height": 111
        }
      },
      "source": [
        "train_set[:5]\n"
      ],
      "execution_count": 8,
      "outputs": [
        {
          "output_type": "execute_result",
          "data": {
            "text/plain": [
              "[('6511+2140', '8651'),\n",
              " ('7105+7672', '14777'),\n",
              " ('9369+2882', '12251'),\n",
              " ('2874-9252', '-6378'),\n",
              " ('5085+5429', '10514')]"
            ]
          },
          "metadata": {
            "tags": []
          },
          "execution_count": 8
        }
      ]
    },
    {
      "cell_type": "markdown",
      "metadata": {
        "id": "7KBfshL6CG3B",
        "colab_type": "text"
      },
      "source": [
        "## Prepare data for the neural network\n",
        "\n",
        "The next stage of data preparation is creating mappings of the characters to their indices in some vocabulary. Since in our task we already know which symbols will appear in the inputs and outputs, generating the vocabulary is a simple step.\n",
        "\n",
        "#### How to create dictionaries for other task\n",
        "\n",
        "First of all, you need to understand what is the basic unit of the sequence in your task. In our case, we operate on symbols and the basic unit is a symbol. The number of symbols is small, so we don't need to think about filtering/normalization steps. However, in other tasks, the basic unit is often a word, and in this case the mapping would be *word $\\to$ integer*. The number of words might be huge, so it would be reasonable to filter them, for example, by frequency and leave only the frequent ones. Other strategies that your should consider are: data normalization (lowercasing, tokenization, how to consider punctuation marks), separate vocabulary for input and for output (e.g. for machine translation), some specifics of the task."
      ]
    },
    {
      "cell_type": "code",
      "metadata": {
        "id": "z7ozOWz2CG3C",
        "colab_type": "code",
        "colab": {}
      },
      "source": [
        "word2id = {symbol:i for i, symbol in enumerate('#^$+-1234567890')}\n",
        "id2word = {i:symbol for symbol, i in word2id.items()}"
      ],
      "execution_count": 0,
      "outputs": []
    },
    {
      "cell_type": "code",
      "metadata": {
        "id": "8_kFz8ds-Gdz",
        "colab_type": "code",
        "outputId": "111ed5e9-4d15-4e6d-b526-6c21cc414946",
        "colab": {
          "base_uri": "https://localhost:8080/",
          "height": 36
        }
      },
      "source": [
        "word2id['#']"
      ],
      "execution_count": 10,
      "outputs": [
        {
          "output_type": "execute_result",
          "data": {
            "text/plain": [
              "0"
            ]
          },
          "metadata": {
            "tags": []
          },
          "execution_count": 10
        }
      ]
    },
    {
      "cell_type": "markdown",
      "metadata": {
        "id": "DV6KRLCXCG3H",
        "colab_type": "text"
      },
      "source": [
        "#### Special symbols"
      ]
    },
    {
      "cell_type": "code",
      "metadata": {
        "id": "lbZ24ufkCG3I",
        "colab_type": "code",
        "colab": {}
      },
      "source": [
        "start_symbol = '^'\n",
        "end_symbol = '$'\n",
        "padding_symbol = '#'"
      ],
      "execution_count": 0,
      "outputs": []
    },
    {
      "cell_type": "markdown",
      "metadata": {
        "id": "dqcRiwVfCG3P",
        "colab_type": "text"
      },
      "source": [
        "You could notice that we have added 3 special symbols: '^', '\\$' and '#':\n",
        "- '^' symbol will be passed to the network to indicate the beginning of the decoding procedure. We will discuss this one later in more details.\n",
        "- '\\$' symbol will be used to indicate the *end of a string*, both for input and output sequences. \n",
        "- '#' symbol will be used as a *padding* character to make lengths of all strings equal within one training batch.\n",
        "\n",
        "People have a bit different habits when it comes to special symbols in encoder-decoder networks, so don't get too much confused if you come across other variants in tutorials you read. "
      ]
    },
    {
      "cell_type": "markdown",
      "metadata": {
        "id": "da33RhcTCG3Q",
        "colab_type": "text"
      },
      "source": [
        "#### Padding"
      ]
    },
    {
      "cell_type": "markdown",
      "metadata": {
        "id": "NBTA1GHvCG3S",
        "colab_type": "text"
      },
      "source": [
        "When vocabularies are ready, we need to be able to convert a sentence to a list of vocabulary word indices and back. At the same time, let's care about padding. We are going to preprocess each sequence from the input (and output ground truth) in such a way that:\n",
        "- it has a predefined length *padded_len*\n",
        "- it is probably cut off or padded with the *padding symbol* '#'\n",
        "- it *always* ends with the *end symbol* '$'\n",
        "\n",
        "We will treat the original characters of the sequence **and the end symbol** as the valid part of the input. We will store *the actual length* of the sequence, which includes the end symbol, but does not include the padding symbols. "
      ]
    },
    {
      "cell_type": "markdown",
      "metadata": {
        "id": "IkTlO6L3CG3T",
        "colab_type": "text"
      },
      "source": [
        " Now you need to implement the function *sentence_to_ids* that does the described job. "
      ]
    },
    {
      "cell_type": "code",
      "metadata": {
        "id": "BD2IbDvKCG3U",
        "colab_type": "code",
        "colab": {}
      },
      "source": [
        "def sentence_to_ids(sentence, word2id, padded_len):\n",
        "    \"\"\" Converts a sequence of symbols to a padded sequence of their ids.\n",
        "    \n",
        "      sentence: a string, input/output sequence of symbols.\n",
        "      word2id: a dict, a mapping from original symbols to ids.\n",
        "      padded_len: an integer, a desirable length of the sequence.\n",
        "\n",
        "      result: a tuple of (a list of ids, an actual length of sentence).\n",
        "    \"\"\"\n",
        "    ######### YOUR CODE HERE #############\n",
        "    sent_ids = [word2id['#'] for _ in range(padded_len)]\n",
        "    size= min(padded_len,len(sentence)+1)-1\n",
        "    for i in range(size):\n",
        "      sent_ids[i] = word2id[sentence[i]]\n",
        "\n",
        "    sent_ids[size]= word2id['$']\n",
        "    ######### YOUR CODE HERE #############\n",
        "    sent_len = min(len(sentence)+1,padded_len)\n",
        "    \n",
        "    return sent_ids, sent_len"
      ],
      "execution_count": 0,
      "outputs": []
    },
    {
      "cell_type": "markdown",
      "metadata": {
        "id": "aNI7lAhxCG3Z",
        "colab_type": "text"
      },
      "source": [
        "Check that your implementation is correct:"
      ]
    },
    {
      "cell_type": "code",
      "metadata": {
        "id": "9oQuNx8HCG3a",
        "colab_type": "code",
        "colab": {}
      },
      "source": [
        "def test_sentence_to_ids():\n",
        "    sentences = [(\"123+123\", 7), (\"123+123\", 8), (\"123+123\", 10)]\n",
        "    expected_output = [([5, 6, 7, 3, 5, 6, 2], 7), \n",
        "                       ([5, 6, 7, 3, 5, 6, 7, 2], 8), \n",
        "                       ([5, 6, 7, 3, 5, 6, 7, 2, 0, 0], 8)] \n",
        "    for (sentence, padded_len), (sentence_ids, expected_length) in zip(sentences, expected_output):\n",
        "        output, length = sentence_to_ids(sentence, word2id, padded_len)\n",
        "        if output != sentence_ids:\n",
        "            return(\"Convertion of '{}' for padded_len={} to {} is incorrect.\".format(\n",
        "                sentence, padded_len, output))\n",
        "        if length != expected_length:\n",
        "            return(\"Convertion of '{}' for padded_len={} has incorrect actual length {}.\".format(\n",
        "                sentence, padded_len, length))\n",
        "    return(\"Tests passed.\")"
      ],
      "execution_count": 0,
      "outputs": []
    },
    {
      "cell_type": "code",
      "metadata": {
        "id": "xsitPuJ0CG3k",
        "colab_type": "code",
        "outputId": "8163f978-a752-4942-b2f7-fb7e67c5927d",
        "colab": {
          "base_uri": "https://localhost:8080/",
          "height": 36
        }
      },
      "source": [
        "print(test_sentence_to_ids())"
      ],
      "execution_count": 14,
      "outputs": [
        {
          "output_type": "stream",
          "text": [
            "Tests passed.\n"
          ],
          "name": "stdout"
        }
      ]
    },
    {
      "cell_type": "code",
      "metadata": {
        "id": "7xN1YUacgEVE",
        "colab_type": "code",
        "outputId": "f1dbe7d1-c45f-4055-a2ad-861fee118319",
        "colab": {
          "base_uri": "https://localhost:8080/",
          "height": 36
        }
      },
      "source": [
        "sentence= \"9022+906\"\n",
        "padded_len =9\n",
        "output, length = sentence_to_ids(sentence, word2id, padded_len)\n",
        "(output, length)"
      ],
      "execution_count": 15,
      "outputs": [
        {
          "output_type": "execute_result",
          "data": {
            "text/plain": [
              "([13, 14, 6, 6, 3, 13, 14, 10, 2], 9)"
            ]
          },
          "metadata": {
            "tags": []
          },
          "execution_count": 15
        }
      ]
    },
    {
      "cell_type": "markdown",
      "metadata": {
        "id": "MQ12eUjFCG3q",
        "colab_type": "text"
      },
      "source": [
        "We also need to be able to get back from indices to symbols:"
      ]
    },
    {
      "cell_type": "code",
      "metadata": {
        "id": "ZdXe5jX-CG3s",
        "colab_type": "code",
        "colab": {}
      },
      "source": [
        "def ids_to_sentence(ids, id2word):\n",
        "    \"\"\" Converts a sequence of ids to a sequence of symbols.\n",
        "    \n",
        "          ids: a list, indices for the padded sequence.\n",
        "          id2word:  a dict, a mapping from ids to original symbols.\n",
        "\n",
        "          result: a list of symbols.\n",
        "    \"\"\"\n",
        " \n",
        "    return [id2word[i] for i in ids] "
      ],
      "execution_count": 0,
      "outputs": []
    },
    {
      "cell_type": "markdown",
      "metadata": {
        "id": "uamY3qTdCG3y",
        "colab_type": "text"
      },
      "source": [
        "#### Generating batches"
      ]
    },
    {
      "cell_type": "markdown",
      "metadata": {
        "id": "y5TppPFXCG3z",
        "colab_type": "text"
      },
      "source": [
        "The final step of data preparation is a function that transforms a batch of sentences to a list of lists of indices. "
      ]
    },
    {
      "cell_type": "code",
      "metadata": {
        "id": "2LwSXvz0CG31",
        "colab_type": "code",
        "colab": {}
      },
      "source": [
        "def batch_to_ids(sentences, word2id, max_len):\n",
        "    \"\"\"Prepares batches of indices. \n",
        "    \n",
        "       Sequences are padded to match the longest sequence in the batch,\n",
        "       if it's longer than max_len, then max_len is used instead.\n",
        "\n",
        "        sentences: a list of strings, original sequences.\n",
        "        word2id: a dict, a mapping from original symbols to ids.\n",
        "        max_len: an integer, max len of sequences allowed.\n",
        "\n",
        "        result: a list of lists of ids, a list of actual lengths.\n",
        "    \"\"\"\n",
        "    \n",
        "    max_len_in_batch = min(max(len(s) for s in sentences) + 1, max_len)\n",
        "    batch_ids, batch_ids_len = [], []\n",
        "    for sentence in sentences:\n",
        "        ids, ids_len = sentence_to_ids(sentence, word2id, max_len_in_batch)\n",
        "        batch_ids.append(ids)\n",
        "        batch_ids_len.append(ids_len)\n",
        "    return batch_ids, batch_ids_len"
      ],
      "execution_count": 0,
      "outputs": []
    },
    {
      "cell_type": "markdown",
      "metadata": {
        "id": "u3cGN4Y3CG35",
        "colab_type": "text"
      },
      "source": [
        "The function *generate_batches* will help to generate batches with defined size from given samples."
      ]
    },
    {
      "cell_type": "code",
      "metadata": {
        "id": "CJKTgg_wCG35",
        "colab_type": "code",
        "colab": {}
      },
      "source": [
        "def generate_batches(samples, batch_size=64):\n",
        "    X, Y = [], []\n",
        "    for i, (x, y) in enumerate(samples, 1):\n",
        "        X.append(x)\n",
        "        Y.append(y)\n",
        "        if i % batch_size == 0:\n",
        "            yield X, Y\n",
        "            X, Y = [], []\n",
        "    if X and Y:\n",
        "        yield X, Y"
      ],
      "execution_count": 0,
      "outputs": []
    },
    {
      "cell_type": "markdown",
      "metadata": {
        "id": "zeuvILLjCG3-",
        "colab_type": "text"
      },
      "source": [
        "To illustrate the result of the implemented functions, run the following cell:"
      ]
    },
    {
      "cell_type": "code",
      "metadata": {
        "id": "_d354FBXCG3-",
        "colab_type": "code",
        "outputId": "4adda24a-0b4e-4317-b9cf-728a9e96bf32",
        "colab": {
          "base_uri": "https://localhost:8080/",
          "height": 73
        }
      },
      "source": [
        "sentences = train_set[0]\n",
        "ids, sent_lens = batch_to_ids(sentences, word2id, max_len=10)\n",
        "print('Input:', sentences)\n",
        "print('Ids: {}\\nSentences lengths: {}'.format(ids, sent_lens))"
      ],
      "execution_count": 19,
      "outputs": [
        {
          "output_type": "stream",
          "text": [
            "Input: ('6511+2140', '8651')\n",
            "Ids: [[10, 9, 5, 5, 3, 6, 5, 8, 14, 2], [12, 10, 9, 5, 2, 0, 0, 0, 0, 0]]\n",
            "Sentences lengths: [10, 5]\n"
          ],
          "name": "stdout"
        }
      ]
    },
    {
      "cell_type": "markdown",
      "metadata": {
        "id": "ZUAwwsGxCG4B",
        "colab_type": "text"
      },
      "source": [
        "## Encoder-Decoder architecture\n",
        "\n",
        "Encoder-Decoder is a successful architecture for Seq2Seq tasks with different lengths of input and output sequences. The main idea is to use two recurrent neural networks, where the first neural network *encodes* the input sequence into a real-valued vector and then the second neural network *decodes* this vector into the output sequence. While building the neural network, we will specify some particular characteristics of this architecture."
      ]
    },
    {
      "cell_type": "code",
      "metadata": {
        "id": "C9VH149-9O-x",
        "colab_type": "code",
        "outputId": "eb55093d-cfbd-4779-c966-1776e106069f",
        "colab": {
          "base_uri": "https://localhost:8080/",
          "height": 36
        }
      },
      "source": [
        "# set tf 1.x for colab\n",
        "%tensorflow_version 1.x"
      ],
      "execution_count": 20,
      "outputs": [
        {
          "output_type": "stream",
          "text": [
            "TensorFlow 1.x selected.\n"
          ],
          "name": "stdout"
        }
      ]
    },
    {
      "cell_type": "code",
      "metadata": {
        "id": "4C3y5ZP3CG4C",
        "colab_type": "code",
        "colab": {}
      },
      "source": [
        "import tensorflow as tf\n",
        "# set tf 1.x for colab\n",
        "%tensorflow_version 1.x"
      ],
      "execution_count": 0,
      "outputs": []
    },
    {
      "cell_type": "markdown",
      "metadata": {
        "id": "ruOQy7bQCG4K",
        "colab_type": "text"
      },
      "source": [
        "Let us use TensorFlow building blocks to specify the network architecture."
      ]
    },
    {
      "cell_type": "code",
      "metadata": {
        "id": "I4cGV77ECG4K",
        "colab_type": "code",
        "colab": {}
      },
      "source": [
        "class Seq2SeqModel(object):\n",
        "    pass"
      ],
      "execution_count": 0,
      "outputs": []
    },
    {
      "cell_type": "markdown",
      "metadata": {
        "id": "ssd5eK4ECG4N",
        "colab_type": "text"
      },
      "source": [
        "First, we need to create [placeholders](https://www.tensorflow.org/api_guides/python/io_ops#Placeholders) to specify what data we are going to feed into the network during the execution time. For this task we will need:\n",
        " - *input_batch* — sequences of sentences (the shape will equal to [batch_size, max_sequence_len_in_batch]);\n",
        " - *input_batch_lengths* — lengths of not padded sequences (the shape equals to [batch_size]);\n",
        " - *ground_truth* — sequences of groundtruth (the shape will equal to [batch_size, max_sequence_len_in_batch]);\n",
        " - *ground_truth_lengths* — lengths of not padded groundtruth sequences (the shape equals to [batch_size]);\n",
        " - *dropout_ph* — dropout keep probability; this placeholder has a predifined value 1;\n",
        " - *learning_rate_ph* — learning rate."
      ]
    },
    {
      "cell_type": "code",
      "metadata": {
        "id": "-paXpGUdCG4N",
        "colab_type": "code",
        "colab": {}
      },
      "source": [
        "def declare_placeholders(self):\n",
        "    \"\"\"Specifies placeholders for the model.\"\"\"\n",
        "    \n",
        "    # Placeholders for input and its actual lengths.\n",
        "    self.input_batch = tf.placeholder(shape=(None, None), dtype=tf.int32, name='input_batch')\n",
        "    self.input_batch_lengths = tf.placeholder(shape=(None, ), dtype=tf.int32, name='input_batch_lengths')\n",
        "    \n",
        "    # Placeholders for groundtruth and its actual lengths.\n",
        "    self.ground_truth = tf.placeholder(shape=(None, None), dtype=tf.int32, name='ground_truth')\n",
        "    ######### YOUR CODE HERE #############\n",
        "    self.ground_truth_lengths = tf.placeholder(shape=(None, ), dtype=tf.int32, name='ground_truth_lengths')\n",
        "    ######### YOUR CODE HERE #############\n",
        "        \n",
        "    self.dropout_ph = tf.placeholder_with_default(tf.cast(1.0, tf.float32), shape=[])\n",
        "    self.learning_rate_ph =  tf.placeholder(dtype=tf.float32, shape=[])\n",
        "    ######### YOUR CODE HERE ############# "
      ],
      "execution_count": 0,
      "outputs": []
    },
    {
      "cell_type": "code",
      "metadata": {
        "id": "nccZWgP0CG4S",
        "colab_type": "code",
        "colab": {}
      },
      "source": [
        "Seq2SeqModel.__declare_placeholders = classmethod(declare_placeholders)"
      ],
      "execution_count": 0,
      "outputs": []
    },
    {
      "cell_type": "markdown",
      "metadata": {
        "id": "vWznkdurCG4V",
        "colab_type": "text"
      },
      "source": [
        "Now, let us specify the layers of the neural network. First, we need to prepare an embedding matrix. Since we use the same vocabulary for input and output, we need only one such matrix. For tasks with different vocabularies there would be multiple embedding layers.\n",
        "- Create embeddings matrix with [tf.Variable](https://www.tensorflow.org/api_docs/python/tf/Variable). Specify its name, type (tf.float32), and initialize with random values.\n",
        "- Perform [embeddings lookup](https://www.tensorflow.org/api_docs/python/tf/nn/embedding_lookup) for a given input batch."
      ]
    },
    {
      "cell_type": "code",
      "metadata": {
        "id": "Vo-ox8IMCG4X",
        "colab_type": "code",
        "colab": {}
      },
      "source": [
        "def create_embeddings(self, vocab_size, embeddings_size):\n",
        "    \"\"\"Specifies embeddings layer and embeds an input batch.\"\"\"\n",
        "     \n",
        "    random_initializer = tf.random_uniform((vocab_size, embeddings_size), -1.0, 1.0)\n",
        "    self.embeddings =  tf.Variable(dtype=tf.float32,initial_value=random_initializer, name='embeddings')\n",
        "    ######### YOUR CODE HERE ############# \n",
        "    \n",
        "    # Perform embeddings lookup for self.input_batch. \n",
        "    self.input_batch_embedded = tf.nn.embedding_lookup(self.embeddings, self.input_batch)\n",
        "    ######### YOUR CODE HERE ############# "
      ],
      "execution_count": 0,
      "outputs": []
    },
    {
      "cell_type": "code",
      "metadata": {
        "id": "Fan4TKTTCG4a",
        "colab_type": "code",
        "colab": {}
      },
      "source": [
        "Seq2SeqModel.__create_embeddings = classmethod(create_embeddings)"
      ],
      "execution_count": 0,
      "outputs": []
    },
    {
      "cell_type": "markdown",
      "metadata": {
        "id": "78e098Q6CG4g",
        "colab_type": "text"
      },
      "source": [
        "#### Encoder\n",
        "\n",
        "The first RNN of the current architecture is called an *encoder* and serves for encoding an input sequence to a real-valued vector. Input of this RNN is an embedded input batch. Since sentences in the same batch could have different actual lengths, we also provide input lengths to avoid unnecessary computations. The final encoder state will be passed to the second RNN (decoder), which we will create soon. \n",
        "\n",
        "- TensorFlow provides a number of [RNN cells](https://www.tensorflow.org/api_guides/python/contrib.rnn#Core_RNN_Cells_for_use_with_TensorFlow_s_core_RNN_methods) ready for use. We suggest that you use [GRU cell](https://www.tensorflow.org/api_docs/python/tf/contrib/rnn/GRUCell), but you can also experiment with other types. \n",
        "- Wrap your cells with [DropoutWrapper](https://www.tensorflow.org/api_docs/python/tf/contrib/rnn/DropoutWrapper). Dropout is an important regularization technique for neural networks. Specify input keep probability using the dropout placeholder that we created before.\n",
        "- Combine the defined encoder cells with [Dynamic RNN](https://www.tensorflow.org/api_docs/python/tf/nn/dynamic_rnn). Use the embedded input batches and their lengths here.\n",
        "- Use *dtype=tf.float32* everywhere."
      ]
    },
    {
      "cell_type": "code",
      "metadata": {
        "id": "e-AOrcZLCG4i",
        "colab_type": "code",
        "colab": {}
      },
      "source": [
        "def build_encoder(self, hidden_size):\n",
        "    \"\"\"Specifies encoder architecture and computes its output.\"\"\"\n",
        "    \n",
        "    # Create GRUCell with dropout.\n",
        "    encoder_cell = tf.nn.rnn_cell.DropoutWrapper(tf.nn.rnn_cell.GRUCell(num_units=hidden_size),\n",
        "                                                 input_keep_prob=self.dropout_ph,dtype=tf.float32)\n",
        "    ######### YOUR CODE HERE #############\n",
        "    \n",
        "    # Create RNN with the predefined cell.\n",
        "    ######### YOUR CODE HERE #############\n",
        "    _,self.final_encoder_state = tf.nn.dynamic_rnn(cell=encoder_cell,\n",
        "        inputs=self.input_batch_embedded,\n",
        "        sequence_length=self.input_batch_lengths,dtype= tf.float32)\n",
        "    "
      ],
      "execution_count": 0,
      "outputs": []
    },
    {
      "cell_type": "markdown",
      "metadata": {
        "id": "h6N3vAo-Gzg6",
        "colab_type": "text"
      },
      "source": [
        ""
      ]
    },
    {
      "cell_type": "code",
      "metadata": {
        "id": "1uekLSQBCG4m",
        "colab_type": "code",
        "colab": {}
      },
      "source": [
        "Seq2SeqModel.__build_encoder = classmethod(build_encoder)"
      ],
      "execution_count": 0,
      "outputs": []
    },
    {
      "cell_type": "markdown",
      "metadata": {
        "id": "wOyfjqC4CG4q",
        "colab_type": "text"
      },
      "source": [
        "#### Decoder\n",
        "\n",
        "The second RNN is called a *decoder* and serves for generating the output sequence. In the simple seq2seq arcitecture, the input sequence is provided to the decoder only as the final state of the encoder. Obviously, it is a bottleneck and [Attention techniques](https://www.tensorflow.org/tutorials/seq2seq#background_on_the_attention_mechanism) can help to overcome it. So far, we do not need them to make our calculator work, but this would be a necessary ingredient for more advanced tasks. \n",
        "\n",
        "During training, decoder also uses information about the true output. It is feeded in as input symbol by symbol. However, during the prediction stage (which is called *inference* in this architecture), the decoder can only use its own generated output from the previous step to feed it in at the next step. Because of this difference (*training* vs *inference*), we will create two distinct instances, which will serve for the described scenarios.\n",
        "\n",
        "The picture below illustrates the point. It also shows our work with the special characters, e.g. look how the start symbol `^` is used. The transparent parts are ignored. In decoder, it is masked out in the loss computation. In encoder, the green state is considered as final and passed to the decoder. "
      ]
    },
    {
      "cell_type": "markdown",
      "metadata": {
        "id": "DmSfnQHeCG4r",
        "colab_type": "text"
      },
      "source": [
        "<img src=\"https://github.com/hse-aml/natural-language-processing/blob/master/week4/encoder-decoder-pic.png?raw=1\" style=\"width: 500px;\">"
      ]
    },
    {
      "cell_type": "markdown",
      "metadata": {
        "id": "TAX153IpCG4r",
        "colab_type": "text"
      },
      "source": [
        "Now, it's time to implement the decoder:\n",
        " - First, we should create two [helpers](https://www.tensorflow.org/api_guides/python/contrib.seq2seq#Dynamic_Decoding). These classes help to determine the behaviour of the decoder. During the training time, we will use [TrainingHelper](https://www.tensorflow.org/api_docs/python/tf/contrib/seq2seq/TrainingHelper). For the inference we recommend to use [GreedyEmbeddingHelper](https://www.tensorflow.org/api_docs/python/tf/contrib/seq2seq/GreedyEmbeddingHelper).\n",
        " - To share all parameters during training and inference, we use one scope and set the flag 'reuse' to True at inference time. You might be interested to know more about how [variable scopes](https://www.tensorflow.org/programmers_guide/variables) work in TF. \n",
        " - To create the decoder itself, we will use [BasicDecoder](https://www.tensorflow.org/api_docs/python/tf/contrib/seq2seq/BasicDecoder) class. As previously, you should choose some RNN cell, e.g. GRU cell. To turn hidden states into logits, we will need a projection layer. One of the simple solutions is using [OutputProjectionWrapper](https://www.tensorflow.org/api_docs/python/tf/contrib/rnn/OutputProjectionWrapper).\n",
        " - For getting the predictions, it will be convinient to use [dynamic_decode](https://www.tensorflow.org/api_docs/python/tf/contrib/seq2seq/dynamic_decode). This function uses the provided decoder to perform decoding."
      ]
    },
    {
      "cell_type": "code",
      "metadata": {
        "id": "yVc3HGdpCG4s",
        "colab_type": "code",
        "colab": {}
      },
      "source": [
        "def build_decoder(self, hidden_size, vocab_size, max_iter, start_symbol_id, end_symbol_id):\n",
        "    \"\"\"Specifies decoder architecture and computes the output.\n",
        "    \n",
        "        Uses different helpers:\n",
        "          - for train: feeding ground truth\n",
        "          - for inference: feeding generated output\n",
        "\n",
        "        As a result, self.train_outputs and self.infer_outputs are created. \n",
        "        Each of them contains two fields:\n",
        "          rnn_output (predicted logits)\n",
        "          sample_id (predictions).\n",
        "\n",
        "    \"\"\"\n",
        "    \n",
        "    # Use start symbols as the decoder inputs at the first time step.\n",
        "    batch_size = tf.shape(self.input_batch)[0]\n",
        "    start_tokens = tf.fill([batch_size], start_symbol_id)\n",
        "    ground_truth_as_input = tf.concat([tf.expand_dims(start_tokens, 1), self.ground_truth], 1)\n",
        "    \n",
        "    # Use the embedding layer defined before to lookup embedings for ground_truth_as_input. \n",
        "    self.ground_truth_embedded = tf.nn.embedding_lookup(self.embeddings, ground_truth_as_input)\n",
        "    ######### YOUR CODE HERE #############\n",
        "     \n",
        "    # Create TrainingHelper for the train stage.\n",
        "    train_helper = tf.contrib.seq2seq.TrainingHelper(self.ground_truth_embedded, \n",
        "                                                     self.ground_truth_lengths)\n",
        "    \n",
        "    # Create GreedyEmbeddingHelper for the inference stage.\n",
        "    # You should provide the embedding layer, start_tokens and index of the end symbol.\n",
        "    infer_helper = tf.contrib.seq2seq.GreedyEmbeddingHelper(self.embeddings,start_tokens,end_symbol_id)\n",
        "    ######### YOUR CODE HERE #############\n",
        "    \n",
        "  \n",
        "    def decode(helper, scope, reuse=None):\n",
        "        \"\"\"Creates decoder and return the results of the decoding with a given helper.\"\"\"\n",
        "        \n",
        "        with tf.variable_scope(scope, reuse=reuse):\n",
        "            # Create GRUCell with dropout. Do not forget to set the reuse flag properly.\n",
        "            decoder_cell = tf.nn.rnn_cell.DropoutWrapper(\n",
        "                tf.contrib.rnn.GRUCell(num_units=hidden_size, reuse=reuse),\n",
        "                input_keep_prob=self.dropout_ph)\n",
        "            ######### YOUR CODE HERE #############\n",
        "            \n",
        "            # Create a projection wrapper.\n",
        "            decoder_cell = tf.contrib.rnn.OutputProjectionWrapper(decoder_cell, vocab_size, reuse=reuse)\n",
        "            \n",
        "            # Create BasicDecoder, pass the defined cell, a helper, and initial state.\n",
        "            # The initial state should be equal to the final state of the encoder!\n",
        "            decoder = tf.contrib.seq2seq.BasicDecoder(cell=decoder_cell, \n",
        "                                                      helper=helper, \n",
        "                                                      initial_state=self.final_encoder_state)\n",
        "            ######### YOUR CODE HERE #############\n",
        "            \n",
        "            # The first returning argument of dynamic_decode contains two fields:\n",
        "            #   rnn_output (predicted logits)\n",
        "            #   sample_id (predictions)\n",
        "            outputs, _, _ = tf.contrib.seq2seq.dynamic_decode(decoder=decoder, maximum_iterations=max_iter, \n",
        "                                                              output_time_major=False, impute_finished=True)\n",
        "\n",
        "            return outputs\n",
        "        \n",
        "    self.train_outputs = decode(train_helper, 'decode')\n",
        "    self.infer_outputs = decode(infer_helper, 'decode', reuse=True)"
      ],
      "execution_count": 0,
      "outputs": []
    },
    {
      "cell_type": "code",
      "metadata": {
        "id": "SMgOx5mxCG4v",
        "colab_type": "code",
        "colab": {}
      },
      "source": [
        "Seq2SeqModel.__build_decoder = classmethod(build_decoder)"
      ],
      "execution_count": 0,
      "outputs": []
    },
    {
      "cell_type": "markdown",
      "metadata": {
        "id": "YPkfwbV7CG4z",
        "colab_type": "text"
      },
      "source": [
        "In this task we will use [sequence_loss](https://www.tensorflow.org/api_docs/python/tf/contrib/seq2seq/sequence_loss), which is a weighted cross-entropy loss for a sequence of logits. Take a moment to understand, what is your train logits and targets. Also note, that we do not want to take into account loss terms coming from padding symbols, so we will mask them out using weights.  "
      ]
    },
    {
      "cell_type": "code",
      "metadata": {
        "id": "7IULyQj2CG40",
        "colab_type": "code",
        "colab": {}
      },
      "source": [
        "def compute_loss(self):\n",
        "    \"\"\"Computes sequence loss (masked cross-entopy loss with logits).\"\"\"\n",
        "    \n",
        "    weights = tf.cast(tf.sequence_mask(self.ground_truth_lengths), dtype=tf.float32)\n",
        "    \n",
        "    self.loss = tf.contrib.seq2seq.sequence_loss(self.train_outputs.rnn_output, self.ground_truth, weights)\n",
        "    ######### YOUR CODE HERE #############"
      ],
      "execution_count": 0,
      "outputs": []
    },
    {
      "cell_type": "code",
      "metadata": {
        "id": "vLTQyGQYCG42",
        "colab_type": "code",
        "colab": {}
      },
      "source": [
        "Seq2SeqModel.__compute_loss = classmethod(compute_loss)"
      ],
      "execution_count": 0,
      "outputs": []
    },
    {
      "cell_type": "markdown",
      "metadata": {
        "id": "0m9dN7yRCG46",
        "colab_type": "text"
      },
      "source": [
        "The last thing to specify is the optimization of the defined loss. \n",
        "We suggest that you use [optimize_loss](https://www.tensorflow.org/api_docs/python/tf/contrib/layers/optimize_loss) with Adam optimizer and a learning rate from the corresponding placeholder. You might also need to pass global step (e.g. as tf.train.get_global_step()) and clip gradients by 1.0."
      ]
    },
    {
      "cell_type": "code",
      "metadata": {
        "id": "Xr7PvDOvCG47",
        "colab_type": "code",
        "colab": {}
      },
      "source": [
        "def perform_optimization(self):\n",
        "    \"\"\"Specifies train_op that optimizes self.loss.\"\"\"\n",
        "    # optimizer = tf.train.AdamOptimizer(learning_rate=self.learning_rate_ph)\n",
        "    # grads_and_vars = optimizer.compute_gradients(self.loss)\n",
        "    # clip_norm = tf.cast(1.0, tf.float32)\n",
        "    # grads_and_vars = [(None, var) if grad is None else\n",
        "    #                        (tf.clip_by_norm(grad, clip_norm), var) for grad, var in grads_and_vars]\n",
        "    \n",
        "    # self.train_op = optimizer.apply_gradients(grads_and_vars) \n",
        "\n",
        "    self.train_op = tf.contrib.layers.optimize_loss(loss=self.loss,\n",
        "                                                    global_step=tf.train.get_global_step(),\n",
        "                                                    learning_rate=self.learning_rate_ph,\n",
        "                                                    optimizer='Adam',\n",
        "                                                    clip_gradients=1.0)\n",
        "    ######### YOUR CODE HERE #############"
      ],
      "execution_count": 0,
      "outputs": []
    },
    {
      "cell_type": "code",
      "metadata": {
        "id": "X8bn58lQCG5B",
        "colab_type": "code",
        "colab": {}
      },
      "source": [
        "Seq2SeqModel.__perform_optimization = classmethod(perform_optimization)"
      ],
      "execution_count": 0,
      "outputs": []
    },
    {
      "cell_type": "markdown",
      "metadata": {
        "id": "k12sp6IjCG5D",
        "colab_type": "text"
      },
      "source": [
        "Congratulations! You have specified all the parts of your network. You may have noticed, that we didn't deal with any real data yet, so what you have written is just recipies on how the network should function.\n",
        "Now we will put them to the constructor of our Seq2SeqModel class to use it in the next section. "
      ]
    },
    {
      "cell_type": "code",
      "metadata": {
        "id": "swh30JWPCG5D",
        "colab_type": "code",
        "colab": {}
      },
      "source": [
        "def init_model(self, vocab_size, embeddings_size, hidden_size, \n",
        "               max_iter, start_symbol_id, end_symbol_id, padding_symbol_id):\n",
        "    \n",
        "    self.__declare_placeholders()\n",
        "    self.__create_embeddings(vocab_size, embeddings_size)\n",
        "    self.__build_encoder(hidden_size)\n",
        "\n",
        "    self.__build_decoder(hidden_size, vocab_size, max_iter, start_symbol_id, end_symbol_id)\n",
        "    \n",
        "    # Compute loss and back-propagate.\n",
        "    self.__compute_loss()\n",
        "    self.__perform_optimization()\n",
        "    \n",
        "    # Get predictions for evaluation.\n",
        "    self.train_predictions = self.train_outputs.sample_id\n",
        "    self.infer_predictions = self.infer_outputs.sample_id"
      ],
      "execution_count": 0,
      "outputs": []
    },
    {
      "cell_type": "code",
      "metadata": {
        "id": "aqpc6cFTCG5H",
        "colab_type": "code",
        "colab": {}
      },
      "source": [
        "Seq2SeqModel.__init__ = classmethod(init_model)"
      ],
      "execution_count": 0,
      "outputs": []
    },
    {
      "cell_type": "markdown",
      "metadata": {
        "id": "d-ARwZIHCG5L",
        "colab_type": "text"
      },
      "source": [
        "## Train the network and predict output\n",
        "\n",
        "[Session.run](https://www.tensorflow.org/api_docs/python/tf/Session#run) is a point which initiates computations in the graph that we have defined. To train the network, we need to compute *self.train_op*. To predict output, we just need to compute *self.infer_predictions*. In any case, we need to feed actual data through the placeholders that we defined above. "
      ]
    },
    {
      "cell_type": "code",
      "metadata": {
        "id": "VJkWOlJNCG5L",
        "colab_type": "code",
        "colab": {}
      },
      "source": [
        "def train_on_batch(self, session, X, X_seq_len, Y, Y_seq_len, learning_rate, dropout_keep_probability):\n",
        "    feed_dict = {\n",
        "            self.input_batch: X,\n",
        "            self.input_batch_lengths: X_seq_len,\n",
        "            self.ground_truth: Y,\n",
        "            self.ground_truth_lengths: Y_seq_len,\n",
        "            self.learning_rate_ph: learning_rate,\n",
        "            self.dropout_ph: dropout_keep_probability\n",
        "        }\n",
        "    pred, loss, _ = session.run([\n",
        "            self.train_predictions,\n",
        "            self.loss,\n",
        "            self.train_op], feed_dict=feed_dict)\n",
        "    return pred, loss"
      ],
      "execution_count": 0,
      "outputs": []
    },
    {
      "cell_type": "code",
      "metadata": {
        "id": "8XTmn2ZgCG5O",
        "colab_type": "code",
        "colab": {}
      },
      "source": [
        "Seq2SeqModel.train_on_batch = classmethod(train_on_batch)"
      ],
      "execution_count": 0,
      "outputs": []
    },
    {
      "cell_type": "markdown",
      "metadata": {
        "id": "L4EBAgSJCG5Q",
        "colab_type": "text"
      },
      "source": [
        "We implemented two prediction functions: *predict_for_batch* and *predict_for_batch_with_loss*. The first one allows only to predict output for some input sequence, while the second one could compute loss because we provide also ground truth values. Both these functions might be useful since the first one could be used for predicting only, and the second one is helpful for validating results on not-training data during the training."
      ]
    },
    {
      "cell_type": "code",
      "metadata": {
        "id": "9QJs7f3hCG5Q",
        "colab_type": "code",
        "colab": {}
      },
      "source": [
        "def predict_for_batch(self, session, X, X_seq_len):\n",
        "    feed_dict = {self.input_batch: X,\n",
        "                 self.input_batch_lengths: X_seq_len}\n",
        "    ######### YOUR CODE HERE #############\n",
        "    pred = session.run([\n",
        "            self.infer_predictions\n",
        "        ], feed_dict=feed_dict)[0]\n",
        "    return pred\n",
        "\n",
        "def predict_for_batch_with_loss(self, session, X, X_seq_len, Y, Y_seq_len):\n",
        "    feed_dict = { self.input_batch: X,\n",
        "                  self.input_batch_lengths: X_seq_len,\n",
        "                  self.ground_truth: Y,\n",
        "                  self.ground_truth_lengths: Y_seq_len}\n",
        "    ######### YOUR CODE HERE #############\n",
        "    pred, loss = session.run([\n",
        "            self.infer_predictions,\n",
        "            self.loss,\n",
        "        ], feed_dict=feed_dict)\n",
        "    return pred, loss"
      ],
      "execution_count": 0,
      "outputs": []
    },
    {
      "cell_type": "code",
      "metadata": {
        "id": "8PM7DHB1CG5T",
        "colab_type": "code",
        "colab": {}
      },
      "source": [
        "Seq2SeqModel.predict_for_batch = classmethod(predict_for_batch)\n",
        "Seq2SeqModel.predict_for_batch_with_loss = classmethod(predict_for_batch_with_loss)"
      ],
      "execution_count": 0,
      "outputs": []
    },
    {
      "cell_type": "markdown",
      "metadata": {
        "id": "rB8zvJ6QCG5W",
        "colab_type": "text"
      },
      "source": [
        "## Run your experiment\n",
        "\n",
        "Create *Seq2SeqModel* model with the following parameters:\n",
        " - *vocab_size* — number of tokens;\n",
        " - *embeddings_size* — dimension of embeddings, recommended value: 20;\n",
        " - *max_iter* — maximum number of steps in decoder, recommended value: 7;\n",
        " - *hidden_size* — size of hidden layers for RNN, recommended value: 512;\n",
        " - *start_symbol_id* — an index of the start token (`^`).\n",
        " - *end_symbol_id* — an index of the end token (`$`).\n",
        " - *padding_symbol_id* — an index of the padding token (`#`).\n",
        "\n",
        "Set hyperparameters. You might want to start with the following values and see how it works:\n",
        "- *batch_size*: 128;\n",
        "- at least 10 epochs;\n",
        "- value of *learning_rate*: 0.001\n",
        "- *dropout_keep_probability* equals to 0.5 for training (typical values for dropout probability are ranging from 0.1 to 1.0); larger values correspond smaler number of dropout units;\n",
        "- *max_len*: 20."
      ]
    },
    {
      "cell_type": "code",
      "metadata": {
        "id": "L5FxbAmMCG5X",
        "colab_type": "code",
        "outputId": "48c65847-a1c9-430e-8a95-b7ed3db4bdc4",
        "colab": {
          "base_uri": "https://localhost:8080/",
          "height": 543
        }
      },
      "source": [
        "tf.reset_default_graph()\n",
        "vocab_size=len(word2id)\n",
        "embeddings_size=20\n",
        "hidden_size=512\n",
        "max_iter=7\n",
        "start_symbol_id=word2id['^']\n",
        "end_symbol_id=word2id['$']\n",
        "padding_symbol_id= word2id['#']\n",
        "print((vocab_size,embeddings_size,hidden_size,max_iter,start_symbol_id,end_symbol_id,padding_symbol_id))\n",
        "model = Seq2SeqModel(vocab_size,embeddings_size,hidden_size,\n",
        "            max_iter,start_symbol_id,end_symbol_id,padding_symbol_id) \n",
        "\n",
        "batch_size = 128 \n",
        "n_epochs = 20 \n",
        "learning_rate = 0.001 \n",
        "dropout_keep_probability = 0.5 \n",
        "max_len = 20 \n",
        "n_step = int(len(train_set) / batch_size)\n"
      ],
      "execution_count": 41,
      "outputs": [
        {
          "output_type": "stream",
          "text": [
            "(15, 20, 512, 7, 1, 2, 0)\n",
            "WARNING:tensorflow:From <ipython-input-27-2c53ed9a4f12>:5: GRUCell.__init__ (from tensorflow.python.ops.rnn_cell_impl) is deprecated and will be removed in a future version.\n",
            "Instructions for updating:\n",
            "This class is equivalent as tf.keras.layers.GRUCell, and will be replaced by that in Tensorflow 2.0.\n",
            "WARNING:tensorflow:From <ipython-input-27-2c53ed9a4f12>:13: dynamic_rnn (from tensorflow.python.ops.rnn) is deprecated and will be removed in a future version.\n",
            "Instructions for updating:\n",
            "Please use `keras.layers.RNN(cell)`, which is equivalent to this API\n",
            "WARNING:tensorflow:From /tensorflow-1.15.2/python3.6/tensorflow_core/python/ops/rnn_cell_impl.py:559: Layer.add_variable (from tensorflow.python.keras.engine.base_layer) is deprecated and will be removed in a future version.\n",
            "Instructions for updating:\n",
            "Please use `layer.add_weight` method instead.\n",
            "WARNING:tensorflow:From /tensorflow-1.15.2/python3.6/tensorflow_core/python/ops/rnn_cell_impl.py:565: calling Constant.__init__ (from tensorflow.python.ops.init_ops) with dtype is deprecated and will be removed in a future version.\n",
            "Instructions for updating:\n",
            "Call initializer instance with the dtype argument instead of passing it to the constructor\n",
            "WARNING:tensorflow:From /tensorflow-1.15.2/python3.6/tensorflow_core/python/ops/rnn_cell_impl.py:575: calling Zeros.__init__ (from tensorflow.python.ops.init_ops) with dtype is deprecated and will be removed in a future version.\n",
            "Instructions for updating:\n",
            "Call initializer instance with the dtype argument instead of passing it to the constructor\n",
            "WARNING:tensorflow:From /tensorflow-1.15.2/python3.6/tensorflow_core/python/ops/rnn.py:244: where (from tensorflow.python.ops.array_ops) is deprecated and will be removed in a future version.\n",
            "Instructions for updating:\n",
            "Use tf.where in 2.0, which has the same broadcast rule as np.where\n",
            "WARNING:tensorflow:\n",
            "The TensorFlow contrib module will not be included in TensorFlow 2.0.\n",
            "For more information, please see:\n",
            "  * https://github.com/tensorflow/community/blob/master/rfcs/20180907-contrib-sunset.md\n",
            "  * https://github.com/tensorflow/addons\n",
            "  * https://github.com/tensorflow/io (for I/O related ops)\n",
            "If you depend on functionality not listed there, please file an issue.\n",
            "\n"
          ],
          "name": "stdout"
        }
      ]
    },
    {
      "cell_type": "markdown",
      "metadata": {
        "id": "Sb7EbpxjCG5c",
        "colab_type": "text"
      },
      "source": [
        "Finally, we are ready to run the training! A good indicator that everything works fine is decreasing loss during the training. You should account on the loss value equal to approximately 2.7 at the beginning of the training and near 1 after the 10th epoch."
      ]
    },
    {
      "cell_type": "code",
      "metadata": {
        "scrolled": true,
        "id": "RjP-YBCOCG5d",
        "colab_type": "code",
        "outputId": "04ecb218-93a7-483d-f6b6-2042dca33791",
        "colab": {
          "base_uri": "https://localhost:8080/",
          "height": 1000
        }
      },
      "source": [
        "session = tf.Session()\n",
        "session.run(tf.global_variables_initializer())\n",
        "            \n",
        "invalid_number_prediction_counts = []\n",
        "all_model_predictions = []\n",
        "all_ground_truth = []\n",
        "\n",
        "print('Start training... \\n')\n",
        "for epoch in range(n_epochs):  \n",
        "    random.shuffle(train_set)\n",
        "    random.shuffle(test_set)\n",
        "    \n",
        "    print('Train: epoch', epoch + 1)\n",
        "    for n_iter, (X_batch, Y_batch) in enumerate(generate_batches(train_set, batch_size=batch_size)):\n",
        "        ######################################\n",
        "        ######### YOUR CODE HERE #############\n",
        "        ######################################\n",
        "        # prepare the data (X_batch and Y_batch) for training\n",
        "        # using function batch_to_ids\n",
        "        X, X_seq_len = batch_to_ids(X_batch, word2id, max_len)\n",
        "        Y, Y_seq_len = batch_to_ids(Y_batch, word2id, max_len)\n",
        "        predictions, loss = model.train_on_batch(session, X, X_seq_len, Y, Y_seq_len,\n",
        "                                                 learning_rate, dropout_keep_probability)\n",
        "        ######### YOUR CODE HERE #############\n",
        "        \n",
        "        if n_iter % 200 == 0:\n",
        "            print(\"Epoch: [%d/%d], step: [%d/%d], loss: %f\" % (epoch + 1, n_epochs, n_iter + 1, n_step, loss))\n",
        "                \n",
        "    X_sent, Y_sent = next(generate_batches(test_set, batch_size=batch_size))\n",
        "    ######################################\n",
        "    ######### YOUR CODE HERE #############\n",
        "    ######################################\n",
        "    # prepare test data (X_sent and Y_sent) for predicting \n",
        "    # quality and computing value of the loss function\n",
        "    # using function batch_to_ids\n",
        "    X, X_seq_len = batch_to_ids(X_sent, word2id, max_len)\n",
        "    Y, Y_seq_len = batch_to_ids(Y_sent, word2id, max_len)\n",
        "    \n",
        "    predictions, loss = model.predict_for_batch_with_loss(session, X, X_seq_len, Y, Y_seq_len)\n",
        "    ######### YOUR CODE HERE #############\n",
        "    print('Test: epoch', epoch + 1, 'loss:', loss,)\n",
        "    for x, y, p  in list(zip(X, Y, predictions))[:3]:\n",
        "        print('X:',''.join(ids_to_sentence(x, id2word)))\n",
        "        print('Y:',''.join(ids_to_sentence(y, id2word)))\n",
        "        print('O:',''.join(ids_to_sentence(p, id2word)))\n",
        "        print('')\n",
        "\n",
        "    model_predictions = []\n",
        "    ground_truth = []\n",
        "    invalid_number_prediction_count = 0\n",
        "    # For the whole test set calculate ground-truth values (as integer numbers)\n",
        "    # and prediction values (also as integers) to calculate metrics.\n",
        "    # If generated by model number is not correct (e.g. '1-1'), \n",
        "    # increase invalid_number_prediction_count and don't append this and corresponding\n",
        "    # ground-truth value to the arrays.\n",
        "    for X_batch, Y_batch in generate_batches(test_set, batch_size=batch_size):\n",
        "        ######################################\n",
        "        ######### YOUR CODE HERE #############\n",
        "        ######################################\n",
        "        X, X_seq_len = batch_to_ids(X_batch, word2id, max_len)\n",
        "        Y, Y_seq_len = batch_to_ids(Y_batch, word2id, max_len)\n",
        "        predict = model.predict_for_batch(session, X, X_seq_len)\n",
        "        # good or bad\n",
        "        for p,y in zip(predict,Y):\n",
        "          p_sentence = ''.join(ids_to_sentence(p.tolist(),id2word))\n",
        "          y_sentence = ''.join(ids_to_sentence(y,id2word))\n",
        "          \n",
        "          if '+' in p_sentence or '-' in p_sentence[1:]:\n",
        "            print('Invalid!')\n",
        "            invalid_number_prediction_count +=1\n",
        "          else:\n",
        "            p_sent = p_sentence[:p_sentence.find('$')]\n",
        "            y_sent = y_sentence[:y_sentence.find('$')]\n",
        "            val_p_sent = int(p_sent)\n",
        "            val_y_sent = int(y_sent)\n",
        "            model_predictions.append(val_p_sent)\n",
        "            ground_truth.append(val_y_sent)\n",
        "\n",
        "    all_model_predictions.append(model_predictions)\n",
        "    all_ground_truth.append(ground_truth)\n",
        "    invalid_number_prediction_counts.append(invalid_number_prediction_count)\n",
        "            \n",
        "print('\\n...training finished.')"
      ],
      "execution_count": 42,
      "outputs": [
        {
          "output_type": "stream",
          "text": [
            "Start training... \n",
            "\n",
            "Train: epoch 1\n",
            "Epoch: [1/20], step: [1/625], loss: 2.722971\n",
            "Epoch: [1/20], step: [201/625], loss: 1.803443\n",
            "Epoch: [1/20], step: [401/625], loss: 1.725969\n",
            "Epoch: [1/20], step: [601/625], loss: 1.686267\n",
            "Test: epoch 1 loss: 1.6070313\n",
            "X: 58-1854$##\n",
            "Y: -1796$\n",
            "O: -3809$\n",
            "\n",
            "X: 5521+5669$\n",
            "Y: 11190$\n",
            "O: 12266$\n",
            "\n",
            "X: 4886-4355$\n",
            "Y: 531$##\n",
            "O: -105$#\n",
            "\n",
            "Train: epoch 2\n",
            "Epoch: [2/20], step: [1/625], loss: 1.631932\n",
            "Epoch: [2/20], step: [201/625], loss: 1.590209\n",
            "Epoch: [2/20], step: [401/625], loss: 1.547665\n",
            "Epoch: [2/20], step: [601/625], loss: 1.464102\n",
            "Test: epoch 2 loss: 1.4477779\n",
            "X: 9546+8935$\n",
            "Y: 18481$\n",
            "O: 18222$\n",
            "\n",
            "X: 1111+5215$\n",
            "Y: 6326$#\n",
            "O: 6503$#\n",
            "\n",
            "X: 9022-3765$\n",
            "Y: 5257$#\n",
            "O: 5603$#\n",
            "\n",
            "Train: epoch 3\n",
            "Epoch: [3/20], step: [1/625], loss: 1.430335\n",
            "Epoch: [3/20], step: [201/625], loss: 1.421269\n",
            "Epoch: [3/20], step: [401/625], loss: 1.379285\n",
            "Epoch: [3/20], step: [601/625], loss: 1.386682\n",
            "Test: epoch 3 loss: 1.4012791\n",
            "X: 1787+3536$\n",
            "Y: 5323$#\n",
            "O: 5488$#\n",
            "\n",
            "X: 8918+1224$\n",
            "Y: 10142$\n",
            "O: 10144$\n",
            "\n",
            "X: 5633+9179$\n",
            "Y: 14812$\n",
            "O: 15495$\n",
            "\n",
            "Train: epoch 4\n",
            "Epoch: [4/20], step: [1/625], loss: 1.423035\n",
            "Epoch: [4/20], step: [201/625], loss: 1.364553\n",
            "Epoch: [4/20], step: [401/625], loss: 1.392619\n",
            "Epoch: [4/20], step: [601/625], loss: 1.306770\n",
            "Test: epoch 4 loss: 1.3051949\n",
            "X: 2104-7890$\n",
            "Y: -5786$\n",
            "O: -5684$\n",
            "\n",
            "X: 2566-8054$\n",
            "Y: -5488$\n",
            "O: -5299$\n",
            "\n",
            "X: 666+9079$#\n",
            "Y: 9745$#\n",
            "O: 10004$\n",
            "\n",
            "Train: epoch 5\n",
            "Epoch: [5/20], step: [1/625], loss: 1.333556\n",
            "Epoch: [5/20], step: [201/625], loss: 1.347965\n",
            "Epoch: [5/20], step: [401/625], loss: 1.304247\n",
            "Epoch: [5/20], step: [601/625], loss: 1.313223\n",
            "Test: epoch 5 loss: 1.249966\n",
            "X: 8530+9526$\n",
            "Y: 18056$\n",
            "O: 17872$\n",
            "\n",
            "X: 9436-3320$\n",
            "Y: 6116$#\n",
            "O: 6222$#\n",
            "\n",
            "X: 4385+1629$\n",
            "Y: 6014$#\n",
            "O: 6322$#\n",
            "\n",
            "Train: epoch 6\n",
            "Epoch: [6/20], step: [1/625], loss: 1.319583\n",
            "Epoch: [6/20], step: [201/625], loss: 1.307436\n",
            "Epoch: [6/20], step: [401/625], loss: 1.286281\n",
            "Epoch: [6/20], step: [601/625], loss: 1.296965\n",
            "Test: epoch 6 loss: 1.2117537\n",
            "X: 9895+356$#\n",
            "Y: 10251$\n",
            "O: 10341$\n",
            "\n",
            "X: 8733+4882$\n",
            "Y: 13615$\n",
            "O: 13421$\n",
            "\n",
            "X: 9357+203$#\n",
            "Y: 9560$#\n",
            "O: 9422$#\n",
            "\n",
            "Train: epoch 7\n",
            "Epoch: [7/20], step: [1/625], loss: 1.279158\n",
            "Epoch: [7/20], step: [201/625], loss: 1.265449\n",
            "Epoch: [7/20], step: [401/625], loss: 1.187890\n",
            "Epoch: [7/20], step: [601/625], loss: 1.160969\n",
            "Test: epoch 7 loss: 1.1282115\n",
            "X: 5369-8196$\n",
            "Y: -2827$\n",
            "O: -2831$\n",
            "\n",
            "X: 6281-2869$\n",
            "Y: 3412$#\n",
            "O: 3599$#\n",
            "\n",
            "X: 7044-2221$\n",
            "Y: 4823$#\n",
            "O: 4915$#\n",
            "\n",
            "Train: epoch 8\n",
            "Epoch: [8/20], step: [1/625], loss: 1.126461\n",
            "Epoch: [8/20], step: [201/625], loss: 1.099343\n",
            "Epoch: [8/20], step: [401/625], loss: 1.086308\n",
            "Epoch: [8/20], step: [601/625], loss: 1.058017\n",
            "Test: epoch 8 loss: 0.98904544\n",
            "X: 1131-5439$\n",
            "Y: -4308$\n",
            "O: -4345$\n",
            "\n",
            "X: 6546-1836$\n",
            "Y: 4710$#\n",
            "O: 4702$#\n",
            "\n",
            "X: 8254-8775$\n",
            "Y: -521$#\n",
            "O: -525$#\n",
            "\n",
            "Train: epoch 9\n",
            "Epoch: [9/20], step: [1/625], loss: 1.015402\n",
            "Epoch: [9/20], step: [201/625], loss: 0.997344\n",
            "Epoch: [9/20], step: [401/625], loss: 1.047171\n",
            "Epoch: [9/20], step: [601/625], loss: 0.980567\n",
            "Test: epoch 9 loss: 0.9361982\n",
            "X: 7029+3706$\n",
            "Y: 10735$\n",
            "O: 10655$\n",
            "\n",
            "X: 5146+9594$\n",
            "Y: 14740$\n",
            "O: 14706$\n",
            "\n",
            "X: 2936-3988$\n",
            "Y: -1052$\n",
            "O: -1004$\n",
            "\n",
            "Train: epoch 10\n",
            "Epoch: [10/20], step: [1/625], loss: 1.044416\n",
            "Epoch: [10/20], step: [201/625], loss: 0.981590\n",
            "Epoch: [10/20], step: [401/625], loss: 0.962734\n",
            "Epoch: [10/20], step: [601/625], loss: 0.972256\n",
            "Test: epoch 10 loss: 0.91159797\n",
            "X: 2403-4130$\n",
            "Y: -1727$\n",
            "O: -1707$\n",
            "\n",
            "X: 7431+4028$\n",
            "Y: 11459$\n",
            "O: 11454$\n",
            "\n",
            "X: 8457+4981$\n",
            "Y: 13438$\n",
            "O: 13405$\n",
            "\n",
            "Train: epoch 11\n",
            "Epoch: [11/20], step: [1/625], loss: 0.978805\n",
            "Epoch: [11/20], step: [201/625], loss: 0.956963\n",
            "Epoch: [11/20], step: [401/625], loss: 0.913996\n",
            "Epoch: [11/20], step: [601/625], loss: 0.959596\n",
            "Test: epoch 11 loss: 0.8849524\n",
            "X: 7249-3470$\n",
            "Y: 3779$#\n",
            "O: 3763$#\n",
            "\n",
            "X: 85+7771$##\n",
            "Y: 7856$#\n",
            "O: 7793$#\n",
            "\n",
            "X: 8096+931$#\n",
            "Y: 9027$#\n",
            "O: 8966$#\n",
            "\n",
            "Train: epoch 12\n",
            "Epoch: [12/20], step: [1/625], loss: 0.866340\n",
            "Epoch: [12/20], step: [201/625], loss: 0.960757\n",
            "Epoch: [12/20], step: [401/625], loss: 0.936109\n",
            "Epoch: [12/20], step: [601/625], loss: 0.894244\n",
            "Test: epoch 12 loss: 0.8742468\n",
            "X: 3840-8311$\n",
            "Y: -4471$\n",
            "O: -4483$\n",
            "\n",
            "X: 6276-2621$\n",
            "Y: 3655$#\n",
            "O: 3655$#\n",
            "\n",
            "X: 7067+8245$\n",
            "Y: 15312$\n",
            "O: 15303$\n",
            "\n",
            "Train: epoch 13\n",
            "Epoch: [13/20], step: [1/625], loss: 0.876011\n",
            "Epoch: [13/20], step: [201/625], loss: 0.876085\n",
            "Epoch: [13/20], step: [401/625], loss: 0.867542\n",
            "Epoch: [13/20], step: [601/625], loss: 0.861189\n",
            "Test: epoch 13 loss: 0.85630125\n",
            "X: 3248-6591$\n",
            "Y: -3343$\n",
            "O: -3329$\n",
            "\n",
            "X: 605-4086$#\n",
            "Y: -3481$\n",
            "O: -3459$\n",
            "\n",
            "X: 3232-513$#\n",
            "Y: 2719$#\n",
            "O: 2755$#\n",
            "\n",
            "Train: epoch 14\n",
            "Epoch: [14/20], step: [1/625], loss: 0.884535\n",
            "Epoch: [14/20], step: [201/625], loss: 0.846701\n",
            "Epoch: [14/20], step: [401/625], loss: 0.915679\n",
            "Epoch: [14/20], step: [601/625], loss: 0.891404\n",
            "Test: epoch 14 loss: 0.8661547\n",
            "X: 8329+2571$\n",
            "Y: 10900$\n",
            "O: 10941$\n",
            "\n",
            "X: 7291-9766$\n",
            "Y: -2475$\n",
            "O: -2481$\n",
            "\n",
            "X: 410+739$##\n",
            "Y: 1149$#\n",
            "O: 1180$#\n",
            "\n",
            "Train: epoch 15\n",
            "Epoch: [15/20], step: [1/625], loss: 0.928469\n",
            "Epoch: [15/20], step: [201/625], loss: 0.906697\n",
            "Epoch: [15/20], step: [401/625], loss: 0.851961\n",
            "Epoch: [15/20], step: [601/625], loss: 0.878573\n",
            "Test: epoch 15 loss: 0.78563523\n",
            "X: 2876-3658$\n",
            "Y: -782$#\n",
            "O: -774$#\n",
            "\n",
            "X: 9695-7255$\n",
            "Y: 2440$#\n",
            "O: 2446$#\n",
            "\n",
            "X: 9681-3583$\n",
            "Y: 6098$#\n",
            "O: 6100$#\n",
            "\n",
            "Train: epoch 16\n",
            "Epoch: [16/20], step: [1/625], loss: 0.863454\n",
            "Epoch: [16/20], step: [201/625], loss: 0.814526\n",
            "Epoch: [16/20], step: [401/625], loss: 0.819548\n",
            "Epoch: [16/20], step: [601/625], loss: 0.746325\n",
            "Test: epoch 16 loss: 0.7388343\n",
            "X: 1511-4143$\n",
            "Y: -2632$\n",
            "O: -2642$\n",
            "\n",
            "X: 7733-8233$\n",
            "Y: -500$#\n",
            "O: -506$#\n",
            "\n",
            "X: 8720-7026$\n",
            "Y: 1694$#\n",
            "O: 1700$#\n",
            "\n",
            "Train: epoch 17\n",
            "Epoch: [17/20], step: [1/625], loss: 0.723471\n",
            "Epoch: [17/20], step: [201/625], loss: 0.701703\n",
            "Epoch: [17/20], step: [401/625], loss: 0.725305\n",
            "Epoch: [17/20], step: [601/625], loss: 0.677362\n",
            "Test: epoch 17 loss: 0.6928479\n",
            "X: 3936-9254$\n",
            "Y: -5318$\n",
            "O: -5310$\n",
            "\n",
            "X: 9940-9763$\n",
            "Y: 177$##\n",
            "O: 183$##\n",
            "\n",
            "X: 2268-1753$\n",
            "Y: 515$##\n",
            "O: 514$##\n",
            "\n",
            "Train: epoch 18\n",
            "Epoch: [18/20], step: [1/625], loss: 0.672058\n",
            "Epoch: [18/20], step: [201/625], loss: 0.661844\n",
            "Epoch: [18/20], step: [401/625], loss: 0.657336\n",
            "Epoch: [18/20], step: [601/625], loss: 0.635826\n",
            "Test: epoch 18 loss: 0.6398867\n",
            "X: 373+1548$#\n",
            "Y: 1921$#\n",
            "O: 1921$#\n",
            "\n",
            "X: 5960-4558$\n",
            "Y: 1402$#\n",
            "O: 1403$#\n",
            "\n",
            "X: 7372-3066$\n",
            "Y: 4306$#\n",
            "O: 4305$#\n",
            "\n",
            "Train: epoch 19\n",
            "Epoch: [19/20], step: [1/625], loss: 0.644741\n",
            "Epoch: [19/20], step: [201/625], loss: 0.637548\n",
            "Epoch: [19/20], step: [401/625], loss: 0.605087\n",
            "Epoch: [19/20], step: [601/625], loss: 0.593407\n",
            "Test: epoch 19 loss: 0.5808546\n",
            "X: 4150+5957$\n",
            "Y: 10107$\n",
            "O: 10104$\n",
            "\n",
            "X: 52+1873$##\n",
            "Y: 1925$#\n",
            "O: 1902$#\n",
            "\n",
            "X: 8490+1873$\n",
            "Y: 10363$\n",
            "O: 10361$\n",
            "\n",
            "Train: epoch 20\n",
            "Epoch: [20/20], step: [1/625], loss: 0.549191\n",
            "Epoch: [20/20], step: [201/625], loss: 0.571373\n",
            "Epoch: [20/20], step: [401/625], loss: 0.614313\n",
            "Epoch: [20/20], step: [601/625], loss: 0.551894\n",
            "Test: epoch 20 loss: 0.57362497\n",
            "X: 9252+2211$\n",
            "Y: 11463$\n",
            "O: 11452$\n",
            "\n",
            "X: 9657-141$#\n",
            "Y: 9516$#\n",
            "O: 9520$#\n",
            "\n",
            "X: 6333+2955$\n",
            "Y: 9288$#\n",
            "O: 9293$#\n",
            "\n",
            "\n",
            "...training finished.\n"
          ],
          "name": "stdout"
        }
      ]
    },
    {
      "cell_type": "markdown",
      "metadata": {
        "id": "n5TGyLRgCG5u",
        "colab_type": "text"
      },
      "source": [
        "## Evaluate results\n",
        "\n",
        "Because our task is simple and the output is straight-forward, we will use [MAE](https://en.wikipedia.org/wiki/Mean_absolute_error) metric to evaluate the trained model during the epochs. Compute the value of the metric for the output from each epoch."
      ]
    },
    {
      "cell_type": "code",
      "metadata": {
        "id": "ITDrV2hHCG5u",
        "colab_type": "code",
        "colab": {}
      },
      "source": [
        "from sklearn.metrics import mean_absolute_error"
      ],
      "execution_count": 0,
      "outputs": []
    },
    {
      "cell_type": "code",
      "metadata": {
        "id": "K3nuZVIjCG5x",
        "colab_type": "code",
        "outputId": "59896e65-ed9d-4277-dab1-89e245d3d6db",
        "colab": {
          "base_uri": "https://localhost:8080/",
          "height": 392
        }
      },
      "source": [
        "for i, (gts, predictions, invalid_number_prediction_count) in enumerate(zip(all_ground_truth,\n",
        "                                                                            all_model_predictions,\n",
        "                                                                        invalid_number_prediction_counts), 1):\n",
        "  \n",
        "  \n",
        "  mae = mean_absolute_error(gts,predictions)\n",
        "  print(\"Epoch: %i, MAE: %f, Invalid numbers: %i\" % (i, mae, invalid_number_prediction_count))"
      ],
      "execution_count": 44,
      "outputs": [
        {
          "output_type": "stream",
          "text": [
            "Epoch: 1, MAE: 897.710850, Invalid numbers: 0\n",
            "Epoch: 2, MAE: 355.213500, Invalid numbers: 0\n",
            "Epoch: 3, MAE: 347.978950, Invalid numbers: 0\n",
            "Epoch: 4, MAE: 193.839550, Invalid numbers: 0\n",
            "Epoch: 5, MAE: 173.493750, Invalid numbers: 0\n",
            "Epoch: 6, MAE: 145.071450, Invalid numbers: 0\n",
            "Epoch: 7, MAE: 108.730100, Invalid numbers: 0\n",
            "Epoch: 8, MAE: 56.005050, Invalid numbers: 0\n",
            "Epoch: 9, MAE: 53.180000, Invalid numbers: 0\n",
            "Epoch: 10, MAE: 33.338600, Invalid numbers: 0\n",
            "Epoch: 11, MAE: 29.431100, Invalid numbers: 0\n",
            "Epoch: 12, MAE: 42.825800, Invalid numbers: 0\n",
            "Epoch: 13, MAE: 23.677800, Invalid numbers: 0\n",
            "Epoch: 14, MAE: 24.899700, Invalid numbers: 0\n",
            "Epoch: 15, MAE: 24.108600, Invalid numbers: 0\n",
            "Epoch: 16, MAE: 19.892350, Invalid numbers: 0\n",
            "Epoch: 17, MAE: 15.521700, Invalid numbers: 0\n",
            "Epoch: 18, MAE: 13.451050, Invalid numbers: 0\n",
            "Epoch: 19, MAE: 14.342450, Invalid numbers: 0\n",
            "Epoch: 20, MAE: 10.779400, Invalid numbers: 0\n"
          ],
          "name": "stdout"
        }
      ]
    }
  ]
}